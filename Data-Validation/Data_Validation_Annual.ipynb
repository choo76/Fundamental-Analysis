{
 "cells": [
  {
   "cell_type": "markdown",
   "metadata": {},
   "source": [
    "# Fundamental Data Validation\n",
    "Compare and validate annual financial statement numbers from different data sources"
   ]
  },
  {
   "cell_type": "code",
   "execution_count": 1,
   "metadata": {},
   "outputs": [
    {
     "ename": "ERROR",
     "evalue": "Error in library(rlist): there is no package called ‘rlist’\n",
     "output_type": "error",
     "traceback": [
      "Error in library(rlist): there is no package called ‘rlist’\nTraceback:\n",
      "1. library(rlist)",
      "2. stop(txt, domain = NA)"
     ]
    }
   ],
   "source": [
    "library(XML)\n",
    "library(rlist)\n",
    "library(dplyr)\n",
    "library(reshape2)\n",
    "library(XLConnect)\n",
    "library(data.table)\n",
    "setwd(\"/Users/jtan/Documents/Investment/Fundamental-Analysis/Data-Validation/\")\n",
    "\n",
    "# please use one symbol for now\n",
    "STOCK_LIST = c('NVDA')\n",
    "\n",
    "# avoid scientific number format\n",
    "options(scipen=999)\n",
    "\n",
    "output_table <- data.frame (\n",
    "    symbol=character(),\n",
    "    source=character(),\n",
    "    period=character(),\n",
    "    metric=character(),\n",
    "    value=numeric(),\n",
    "    stringsAsFactors=FALSE\n",
    ")"
   ]
  },
  {
   "cell_type": "markdown",
   "metadata": {},
   "source": [
    "## Morningstar\n",
    "[Morningstar Finalcial Report API](https://gist.github.com/hahnicity/45323026693cdde6a116)"
   ]
  },
  {
   "cell_type": "code",
   "execution_count": 7,
   "metadata": {},
   "outputs": [
    {
     "name": "stderr",
     "output_type": "stream",
     "text": [
      "Warning message:\n",
      "“attributes are not identical across measure variables; they will be dropped”Warning message:\n",
      "“attributes are not identical across measure variables; they will be dropped”"
     ]
    }
   ],
   "source": [
    "# period: 12 = annual reporting, 3 = quarterly reporting\n",
    "# report_type: is = Income Statement, cf = Cash Flow, bs = Balance Sheet\n",
    "get_morningstar_data <- function(symbol, report_type, period) {\n",
    "    # http://financials.morningstar.com/ajax/ReportProcess4CSV.html?&t=NVDA&reportType=is&period=3&dataType=A&order=asc&columnYear=5&number=1\n",
    "    url <- paste('http://financials.morningstar.com/ajax/ReportProcess4CSV.html?&t=', symbol, '&reportType=', report_type, '&period=', period, '&dataType=A&order=asc&columnYear=5&number=3', sep = '')\n",
    "    read.table(url, header=FALSE, fill=TRUE, na.strings=c(\"\",\"NA\"), sep=\",\", quote=\"\\\"\")    \n",
    "}\n",
    "\n",
    "reshape_morningstar_data <- function(data, symbol, source, metric_array) {\n",
    "    # remove the last column (TTM)\n",
    "    data$V7 <- NULL\n",
    "    # remove header and use fiscal year end dates as column names\n",
    "    data = data[-1,]\n",
    "    colnames(data) <- as.character(unlist(data[1,]))\n",
    "    colnames(data)[1] <- \"metric\"\n",
    "    data = data[-1,]\n",
    "    # selecting the desired metric and remove duplicates\n",
    "    data <- filter(data, data$metric %in% metric_array) \n",
    "    data <- data[!duplicated(data$metric),]\n",
    "    # reshape and organize data\n",
    "    data <- melt(data, id=c(\"metric\"))\n",
    "    colnames(data)[2] <- 'period'\n",
    "    # only applied to income statement metric\n",
    "    data$metric <- as.character(gsub(\"Basic\", \"EPS\", data$metric))\n",
    "    data$symbol <- symbol\n",
    "    data$source <- source\n",
    "    data <- data[c('symbol','source','period','metric','value')]\n",
    "}\n",
    "\n",
    "# table initialization\n",
    "morningstar_table <- output_table\n",
    "\n",
    "for (i in 1:length(STOCK_LIST)) {\n",
    "    # Income Statement: Revenue, Gross Profit, Operating Income, Net Income, EPS, EBITDA\n",
    "    data.is <- get_morningstar_data(STOCK_LIST[i], 'is', '12')\n",
    "    result.is <- reshape_morningstar_data(data.is, STOCK_LIST[i], 'Morningstar', c('Revenue', 'Gross profit', 'Operating income', 'Net income', 'EBITDA', 'Basic'))\n",
    "    morningstar_table <- rbind(result.is, morningstar_table)\n",
    "    \n",
    "    # Cash Flow: Operating Cash Flow, Free Cash Flow\n",
    "    data.cf <- get_morningstar_data(STOCK_LIST[i], 'cf', '12')\n",
    "    result.cf <- reshape_morningstar_data(data.cf, STOCK_LIST[i], 'Morningstar', c('Operating cash flow', 'Free cash flow'))\n",
    "    morningstar_table <- rbind(result.cf, morningstar_table)\n",
    "}"
   ]
  },
  {
   "cell_type": "markdown",
   "metadata": {},
   "source": [
    "## ADVFN\n",
    "[Get Fundamental Data from ADVFN](https://github.com/systematicinvestor/SIT/blob/master/R/fundamental.data.r)"
   ]
  },
  {
   "cell_type": "code",
   "execution_count": 7,
   "metadata": {
    "collapsed": true
   },
   "outputs": [],
   "source": [
    "# period: annual_reports, quarterly_reports\n",
    "# value: number of records available \n",
    "# symbol: may need to append NYSE or NASDAQ labels\n",
    "get_advfn_data <- function(symbol, source, period, value) {\n",
    "    \n",
    "    table.temp <- output_table\n",
    "    \n",
    "    repeat {\n",
    "        # http://uk.advfn.com/p.php?pid=financials&btn=quarterly_reports&symbol=NVDA&istart_date=100\n",
    "        url <- paste('http://uk.advfn.com/p.php?pid=financials&btn=', period, '&symbol=NYSE:', symbol, '&istart_date=', value, sep=\"\")\n",
    "        tables <- readHTMLTable(url)\n",
    "        tables <- list.clean(tables, fun = is.null, recursive = FALSE)\n",
    "        n.rows <- unlist(lapply(tables, function(t) dim(t)[1]))\n",
    "        data <- tables[[which.max(n.rows)]]\n",
    "        \n",
    "        # selecting the desired metric\n",
    "        # Income Statement: Revenue, Gross Profit, Operating Income, Net Income, EPS, EBITDA\n",
    "        # Cash Flow: Operating Cash Flow, Free Cash Flow\n",
    "        if(period == 'quarter end date') {\n",
    "            toMatch <- c('quarter end date', 'total revenue', 'gross operating profit', 'operating income', 'total net income', 'Basic EPS - Total', 'EBITDA', 'net cash from total operating activities', 'free cash flow')            \n",
    "        } else {\n",
    "            toMatch <- c('year end date', 'total revenue', 'gross operating profit', 'operating income', 'total net income', 'Basic EPS - Total', 'EBITDA', 'net cash from total operating activities', 'free cash flow')\n",
    "        }                 \n",
    "        data <- filter(data, data$V1 %in% toMatch)\n",
    "        data[is.na(data)] <- 0\n",
    "            \n",
    "        if(nrow(data) > 0) {\n",
    "            # remove empty columns\n",
    "            data <- data[, sapply(data, function(col) nlevels(col) > 1)]\n",
    "\n",
    "            # reshape and organize data\n",
    "            colnames(data) <- as.character(unlist(data[1,]))\n",
    "            colnames(data)[1] <- \"metric\"\n",
    "            data = data[-1,]\n",
    "\n",
    "            final <- melt(data, id=c(\"metric\"))\n",
    "            colnames(final)[2] <- 'period'\n",
    "            final$symbol <- symbol\n",
    "            final$source <- source\n",
    "            final$value <- as.numeric(gsub(\",\", \"\", final$value, fixed = TRUE))\n",
    "            i <- sapply(final, is.factor)\n",
    "            final[i] <- lapply(final[i], as.character)\n",
    "            final$period <- gsub(\"/\", \"-\", final$period) \n",
    "            final <- final[c('symbol', 'source', 'period','metric','value')]\n",
    "\n",
    "            # only add not already present data\n",
    "            data <- anti_join(final, table.temp)\n",
    "            if(nrow(data) > 0) {\n",
    "                table.temp = rbind(data, table.temp)\n",
    "            }\n",
    "        }\n",
    "\n",
    "        if(value > 0) {\n",
    "            # can only get 5 time periods at a time\n",
    "            value = value - 5\n",
    "            value = max(0, value)\n",
    "        } else\n",
    "            break\n",
    "    }\n",
    "    table.temp\n",
    "}\n",
    "         \n",
    "# table initialization\n",
    "advfn_table <- output_table\n",
    "                    \n",
    "for (i in 1:length(STOCK_LIST)) {\n",
    "    result <- get_advfn_data(STOCK_LIST[i], 'ADVFN', 'annual_reports', 100)\n",
    "    advfn_table <- rbind(result, advfn_table)\n",
    "}\n",
    "\n",
    "# retain only the last 5 reproting periods\n",
    "#truncated <- morningstar_table %>% distinct(morningstar_table$period) %>% mutate_if(is.factor, as.character)\n",
    "#colnames(truncated)[1] <- 'period'\n",
    "#advfn_table <- merge(truncated, advfn_table, by='period')                        \n",
    "#advfn_table <- advfn_table[c('symbol','source','period','metric','value')]"
   ]
  },
  {
   "cell_type": "markdown",
   "metadata": {},
   "source": [
    "## Stockrow"
   ]
  },
  {
   "cell_type": "code",
   "execution_count": null,
   "metadata": {
    "collapsed": true
   },
   "outputs": [],
   "source": [
    "# period: Y = annual reporting, Q = quarterly reporting\n",
    "# report_type: Income Statement, Cash Flow, Balance Sheet\n",
    "get_stockrow_data <- function(symbol, report_type, period) {\n",
    "    # http://stockrow.com/api/companies/NVDA/financials.xlsx?dimension=MRQ&section=Income Statement\n",
    "    url <- paste('http://stockrow.com/api/companies/', symbol, '/financials.xlsx?dimension=MR', period, '&section=', report_type, sep = '')\n",
    "    download.file(url, 'temp.xlsx', mode=\"wb\")\n",
    "    readWorksheet(loadWorkbook('temp.xlsx'), sheet = symbol, header = TRUE)\n",
    "}\n",
    "\n",
    "reshape_stockrow_data <- function(data, symbol, source, metric_array) {\n",
    "    # selecting the desired metric\n",
    "    colnames(data)[1] <- 'metric'\n",
    "    data <- filter(data, data$metric %in% metric_array) \n",
    "    # fix column names\n",
    "    name_array <- colnames(data)\n",
    "    for (i in 2:length(name_array)) { \n",
    "        name_array[i] <- substr(colnames(data)[i], 2, 8) \n",
    "    }\n",
    "    name_array <- gsub(\"\\\\.\", \"\\\\-\", name_array)\n",
    "    colnames(data) <- name_array\n",
    "    # reshape and organize data\n",
    "    data <- melt(data, id=c(\"metric\"))\n",
    "    colnames(data)[2] <- 'period'\n",
    "    data$symbol <- symbol\n",
    "    data$source <- source\n",
    "    data$value <- ifelse(abs(data$value) > 1000, as.integer(data$value/1000000), data$value)\n",
    "    data <- data[c('symbol','source','period','metric','value')]\n",
    "}\n",
    "\n",
    "# table initialization\n",
    "stockrow_table <- output_table\n",
    "\n",
    "for (i in 1:length(STOCK_LIST)) {\n",
    "    # Income Statement: Revenue, Gross Profit, Operating Income, Net Income, EPS, EBITDA\n",
    "    data.is <- get_stockrow_data(STOCK_LIST[i], 'Income Statement', 'Y')\n",
    "    result.is <- reshape_stockrow_data(data.is, STOCK_LIST[i], 'Stockrow', c('Revenues', 'Gross Profit', 'Operating Income', 'Net Income', 'EPS', 'EBITDA'))\n",
    "    stockrow_table <- rbind(result.is, stockrow_table)\n",
    "    \n",
    "    # Cash Flow: Operating Cash Flow, Free Cash Flow\n",
    "    data.cf <- get_stockrow_data(STOCK_LIST[i], 'Cash Flow', 'Y')\n",
    "    result.cf <- reshape_stockrow_data(data.cf, STOCK_LIST[i], 'Stockrow', c('Operating Cash Flow', 'Free Cash Flow'))\n",
    "    stockrow_table <- rbind(result.cf, stockrow_table)\n",
    "    \n",
    "    # Clean up\n",
    "    if (file.exists('temp.xlsx')) file.remove('temp.xlsx')\n",
    "}\n",
    "\n",
    "# retain only the last 5 reproting periods\n",
    "#truncated <- morningstar_table %>% distinct(morningstar_table$period) %>% mutate_if(is.factor, as.character)\n",
    "#colnames(truncated)[1] <- 'period'\n",
    "#stockrow_table <- merge(truncated, stockrow_table, by='period')                        \n",
    "#stockrow_table <- stockrow_table[c('symbol','source','period','metric','value')]"
   ]
  },
  {
   "cell_type": "markdown",
   "metadata": {},
   "source": [
    "# Final Results"
   ]
  },
  {
   "cell_type": "code",
   "execution_count": null,
   "metadata": {
    "collapsed": true
   },
   "outputs": [],
   "source": [
    "final_result <- do.call(rbind, list(morningstar_table, advfn_table, stockrow_table))\n",
    "write.table(final_result, file = 'Financial_Metric_Annual.csv', sep = \",\", col.names = TRUE, row.names = FALSE, quote = FALSE)"
   ]
  }
 ],
 "metadata": {
  "kernelspec": {
   "display_name": "R",
   "language": "R",
   "name": "ir"
  },
  "language_info": {
   "codemirror_mode": "r",
   "file_extension": ".r",
   "mimetype": "text/x-r-source",
   "name": "R",
   "pygments_lexer": "r",
   "version": "3.4.2"
  }
 },
 "nbformat": 4,
 "nbformat_minor": 2
}
